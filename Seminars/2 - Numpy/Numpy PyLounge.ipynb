{
  "metadata": {
    "language_info": {
      "codemirror_mode": {
        "name": "python",
        "version": 3
      },
      "file_extension": ".py",
      "mimetype": "text/x-python",
      "name": "python",
      "nbconvert_exporter": "python",
      "pygments_lexer": "ipython3",
      "version": "3.8"
    },
    "kernelspec": {
      "name": "python",
      "display_name": "Python (Pyodide)",
      "language": "python"
    }
  },
  "nbformat_minor": 4,
  "nbformat": 4,
  "cells": [
    {
      "cell_type": "code",
      "source": "# четырёхмерный, пятимерный и более массив - это ТЕНЗОР",
      "metadata": {
        "trusted": true
      },
      "execution_count": 2,
      "outputs": []
    },
    {
      "cell_type": "code",
      "source": "import numpy as np",
      "metadata": {
        "trusted": true
      },
      "execution_count": 4,
      "outputs": []
    },
    {
      "cell_type": "code",
      "source": "data = [1, 2, 3, 4, 5]\n\narr = np.array(data)  # Создание из List\n\nprint(arr)\nprint(arr.shape)\nprint(arr.dtype)\nprint(arr.ndim)",
      "metadata": {
        "trusted": true
      },
      "execution_count": 6,
      "outputs": [
        {
          "name": "stdout",
          "text": "[1 2 3 4 5]\n(5,)\nint32\n1\n",
          "output_type": "stream"
        }
      ]
    },
    {
      "cell_type": "code",
      "source": "arr2 = np.array([1, 2, 3, 4, 5])\narr2",
      "metadata": {
        "trusted": true
      },
      "execution_count": 8,
      "outputs": [
        {
          "execution_count": 8,
          "output_type": "execute_result",
          "data": {
            "text/plain": "array([1, 2, 3, 4, 5])"
          },
          "metadata": {}
        }
      ]
    },
    {
      "cell_type": "code",
      "source": "arr3 = np.array([1, 2, 3, 4, 5], dtype=np.float64)  # задаём явно тип данных",
      "metadata": {
        "trusted": true
      },
      "execution_count": 11,
      "outputs": []
    },
    {
      "cell_type": "code",
      "source": "print(arr3)\nprint(arr3.shape)\nprint(arr3.dtype)\nprint(arr3.ndim)\nprint(len(arr3))\nprint(arr3.size)",
      "metadata": {
        "trusted": true
      },
      "execution_count": 15,
      "outputs": [
        {
          "name": "stdout",
          "text": "[1. 2. 3. 4. 5.]\n(5,)\nfloat64\n1\n5\n5\n",
          "output_type": "stream"
        }
      ]
    },
    {
      "cell_type": "code",
      "source": "arr3 = arr3.astype(np.int64)  # приводим все элементы к типу int64",
      "metadata": {
        "trusted": true
      },
      "execution_count": 17,
      "outputs": []
    },
    {
      "cell_type": "code",
      "source": "print(arr3)\nprint(arr3.dtype)",
      "metadata": {
        "trusted": true
      },
      "execution_count": 19,
      "outputs": [
        {
          "name": "stdout",
          "text": "[1 2 3 4 5]\nint64\n",
          "output_type": "stream"
        }
      ]
    },
    {
      "cell_type": "code",
      "source": "arr4 = np.arange(0, 20, 1.5)\narr4  # в отличии от встроенной range(), arange() работает с дробными значениями",
      "metadata": {
        "trusted": true
      },
      "execution_count": 23,
      "outputs": [
        {
          "execution_count": 23,
          "output_type": "execute_result",
          "data": {
            "text/plain": "array([ 0. ,  1.5,  3. ,  4.5,  6. ,  7.5,  9. , 10.5, 12. , 13.5, 15. ,\n       16.5, 18. , 19.5])"
          },
          "metadata": {}
        }
      ]
    },
    {
      "cell_type": "code",
      "source": "arr5 = np.linspace(0, 2, 5)\narr5",
      "metadata": {
        "trusted": true
      },
      "execution_count": 25,
      "outputs": [
        {
          "execution_count": 25,
          "output_type": "execute_result",
          "data": {
            "text/plain": "array([0. , 0.5, 1. , 1.5, 2. ])"
          },
          "metadata": {}
        }
      ]
    },
    {
      "cell_type": "code",
      "source": "arr5 = np.linspace(0, 2, 50)\narr5",
      "metadata": {
        "trusted": true
      },
      "execution_count": 27,
      "outputs": [
        {
          "execution_count": 27,
          "output_type": "execute_result",
          "data": {
            "text/plain": "array([0.        , 0.04081633, 0.08163265, 0.12244898, 0.16326531,\n       0.20408163, 0.24489796, 0.28571429, 0.32653061, 0.36734694,\n       0.40816327, 0.44897959, 0.48979592, 0.53061224, 0.57142857,\n       0.6122449 , 0.65306122, 0.69387755, 0.73469388, 0.7755102 ,\n       0.81632653, 0.85714286, 0.89795918, 0.93877551, 0.97959184,\n       1.02040816, 1.06122449, 1.10204082, 1.14285714, 1.18367347,\n       1.2244898 , 1.26530612, 1.30612245, 1.34693878, 1.3877551 ,\n       1.42857143, 1.46938776, 1.51020408, 1.55102041, 1.59183673,\n       1.63265306, 1.67346939, 1.71428571, 1.75510204, 1.79591837,\n       1.83673469, 1.87755102, 1.91836735, 1.95918367, 2.        ])"
          },
          "metadata": {}
        }
      ]
    },
    {
      "cell_type": "code",
      "source": "random_array = np.random.random(5)\nrandom_array  # мы сгенерировали 5 случайных значений от 0 до 1",
      "metadata": {
        "trusted": true
      },
      "execution_count": 31,
      "outputs": [
        {
          "execution_count": 31,
          "output_type": "execute_result",
          "data": {
            "text/plain": "array([0.798615  , 0.29874516, 0.74735931, 0.65391442, 0.80797695])"
          },
          "metadata": {}
        }
      ]
    },
    {
      "cell_type": "markdown",
      "source": "#### Диапазон случайных чисел от [a, b]: (b - a) * np.random() + a, где b > a",
      "metadata": {}
    },
    {
      "cell_type": "code",
      "source": "random_array = (10 - -5) * np.random.random(5) + -5\nrandom_array",
      "metadata": {
        "trusted": true
      },
      "execution_count": 33,
      "outputs": [
        {
          "execution_count": 33,
          "output_type": "execute_result",
          "data": {
            "text/plain": "array([ 1.09281604,  3.97052972,  3.39740061, -3.25392286,  7.52726972])"
          },
          "metadata": {}
        }
      ]
    },
    {
      "cell_type": "markdown",
      "source": "#### Операции",
      "metadata": {}
    },
    {
      "cell_type": "code",
      "source": "arr = np.array([1, 2, 3, 4, 5])\n\narr1 = np.sin(arr)\nprint(arr1)\n\narr2 = np.cos(arr)\nprint(arr2)\n\narr3 = np.sqrt(arr)\nprint(arr3)\n\narr4 = np.log(arr)\nprint(arr4)\n\narr5 = np.exp(arr)\nprint(arr5)",
      "metadata": {
        "trusted": true
      },
      "execution_count": 36,
      "outputs": [
        {
          "name": "stdout",
          "text": "[ 0.84147098  0.90929743  0.14112001 -0.7568025  -0.95892427]\n[ 0.54030231 -0.41614684 -0.9899925  -0.65364362  0.28366219]\n[1.         1.41421356 1.73205081 2.         2.23606798]\n[0.         0.69314718 1.09861229 1.38629436 1.60943791]\n[  2.71828183   7.3890561   20.08553692  54.59815003 148.4131591 ]\n",
          "output_type": "stream"
        }
      ]
    },
    {
      "cell_type": "code",
      "source": "a = np.array([1, 2, 3, 4, 5])\nb = np.array([6, 7, 8, 9, 10])\n\nprint(a)\nprint(b)",
      "metadata": {
        "trusted": true
      },
      "execution_count": 39,
      "outputs": [
        {
          "name": "stdout",
          "text": "[1 2 3 4 5]\n[ 6  7  8  9 10]\n",
          "output_type": "stream"
        }
      ]
    },
    {
      "cell_type": "code",
      "source": "print(a + b)\nprint(np.add(a, b))",
      "metadata": {
        "trusted": true
      },
      "execution_count": 42,
      "outputs": [
        {
          "name": "stdout",
          "text": "[ 7  9 11 13 15]\n[ 7  9 11 13 15]\n",
          "output_type": "stream"
        }
      ]
    },
    {
      "cell_type": "code",
      "source": "print(a * b)\nprint(np.multiply(a, b))",
      "metadata": {
        "trusted": true
      },
      "execution_count": 45,
      "outputs": [
        {
          "name": "stdout",
          "text": "[ 6 14 24 36 50]\n[ 6 14 24 36 50]\n",
          "output_type": "stream"
        }
      ]
    },
    {
      "cell_type": "code",
      "source": "print(a - b)\nprint(np.subtract(a, b))",
      "metadata": {
        "trusted": true
      },
      "execution_count": 48,
      "outputs": [
        {
          "name": "stdout",
          "text": "[-5 -5 -5 -5 -5]\n[-5 -5 -5 -5 -5]\n",
          "output_type": "stream"
        }
      ]
    },
    {
      "cell_type": "code",
      "source": "print(a / b)\nprint(np.divide(a, b))",
      "metadata": {
        "trusted": true
      },
      "execution_count": 50,
      "outputs": [
        {
          "name": "stdout",
          "text": "[0.16666667 0.28571429 0.375      0.44444444 0.5       ]\n[0.16666667 0.28571429 0.375      0.44444444 0.5       ]\n",
          "output_type": "stream"
        }
      ]
    },
    {
      "cell_type": "code",
      "source": "arr = np.array([1, 2, 3, 4, 5])\nprint(arr * 2)\nprint(arr ** 2)",
      "metadata": {
        "trusted": true
      },
      "execution_count": 52,
      "outputs": [
        {
          "name": "stdout",
          "text": "[ 2  4  6  8 10]\n[ 1  4  9 16 25]\n",
          "output_type": "stream"
        }
      ]
    },
    {
      "cell_type": "code",
      "source": "arr = np.random.randint(-5, 10, 10)\narr",
      "metadata": {
        "trusted": true
      },
      "execution_count": 97,
      "outputs": [
        {
          "execution_count": 97,
          "output_type": "execute_result",
          "data": {
            "text/plain": "array([ 6, -4,  1,  9,  6,  2,  9,  1, -4,  5])"
          },
          "metadata": {}
        }
      ]
    },
    {
      "cell_type": "code",
      "source": "arr = np.random.randint(-10, 10, 10)\nprint(arr)\n\nprint(arr.max())\nprint(arr.min())\nprint(arr.mean())\nprint(arr.sum())\nprint(arr.std())\nprint(np.median(arr))",
      "metadata": {
        "trusted": true
      },
      "execution_count": 98,
      "outputs": [
        {
          "name": "stdout",
          "text": "[ -2 -10   5  -2  -2  -8   1   4  -9  -4]\n5\n-10\n-2.7\n-27\n4.920365840057018\n-2.0\n",
          "output_type": "stream"
        }
      ]
    },
    {
      "cell_type": "code",
      "source": "arr < 2",
      "metadata": {
        "trusted": true
      },
      "execution_count": 99,
      "outputs": [
        {
          "execution_count": 99,
          "output_type": "execute_result",
          "data": {
            "text/plain": "array([ True,  True, False,  True,  True,  True,  True, False,  True,\n        True])"
          },
          "metadata": {}
        }
      ]
    },
    {
      "cell_type": "code",
      "source": "arr",
      "metadata": {
        "trusted": true
      },
      "execution_count": 100,
      "outputs": [
        {
          "execution_count": 100,
          "output_type": "execute_result",
          "data": {
            "text/plain": "array([ -2, -10,   5,  -2,  -2,  -8,   1,   4,  -9,  -4])"
          },
          "metadata": {}
        }
      ]
    },
    {
      "cell_type": "code",
      "source": "arr = np.insert(arr, 2, -20)  # вставляем 20 в позицию 2\nprint(arr)",
      "metadata": {
        "trusted": true
      },
      "execution_count": 95,
      "outputs": [
        {
          "name": "stdout",
          "text": "[  8  -9 -20  -3  -6   2   7   8   0   7   3   0   0   0   0   0   0   0\n   0   0   0   0   0   0   0   0]\n",
          "output_type": "stream"
        }
      ]
    },
    {
      "cell_type": "code",
      "source": "arr = np.delete(arr, 2)  # удаляем элемент во 2 позиции\nprint(arr)",
      "metadata": {
        "trusted": true
      },
      "execution_count": 79,
      "outputs": [
        {
          "name": "stdout",
          "text": "[ 8 -9 -3 -6  2  7  8  0  7  3]\n",
          "output_type": "stream"
        }
      ]
    },
    {
      "cell_type": "code",
      "source": "np.sort(arr)",
      "metadata": {
        "trusted": true
      },
      "execution_count": 81,
      "outputs": [
        {
          "execution_count": 81,
          "output_type": "execute_result",
          "data": {
            "text/plain": "array([-9, -6, -3,  0,  2,  3,  7,  7,  8,  8])"
          },
          "metadata": {}
        }
      ]
    },
    {
      "cell_type": "code",
      "source": "arr2 = np.array([0, 0, 0])",
      "metadata": {
        "trusted": true
      },
      "execution_count": 101,
      "outputs": []
    },
    {
      "cell_type": "code",
      "source": "arr3 = np.concatenate((arr, arr2))\narr3  # конкатенировали (склеили массивы)",
      "metadata": {
        "trusted": true
      },
      "execution_count": 102,
      "outputs": [
        {
          "execution_count": 102,
          "output_type": "execute_result",
          "data": {
            "text/plain": "array([ -2, -10,   5,  -2,  -2,  -8,   1,   4,  -9,  -4,   0,   0,   0])"
          },
          "metadata": {}
        }
      ]
    },
    {
      "cell_type": "code",
      "source": "np.array_split(arr3, 3)  # array_split() позволяет разделить массив на колчество частей, указанных вторым аргументом",
      "metadata": {
        "trusted": true
      },
      "execution_count": 105,
      "outputs": [
        {
          "execution_count": 105,
          "output_type": "execute_result",
          "data": {
            "text/plain": "[array([ -2, -10,   5,  -2,  -2]),\n array([-8,  1,  4, -9]),\n array([-4,  0,  0,  0])]"
          },
          "metadata": {}
        }
      ]
    },
    {
      "cell_type": "code",
      "source": "arr = np.array([1, -2, 3, -4, 5])\narr[0] = 18\nprint(arr[2])",
      "metadata": {
        "trusted": true
      },
      "execution_count": 107,
      "outputs": [
        {
          "name": "stdout",
          "text": "3\n",
          "output_type": "stream"
        }
      ]
    },
    {
      "cell_type": "code",
      "source": "arr[0]",
      "metadata": {
        "trusted": true
      },
      "execution_count": 109,
      "outputs": [
        {
          "execution_count": 109,
          "output_type": "execute_result",
          "data": {
            "text/plain": "18"
          },
          "metadata": {}
        }
      ]
    },
    {
      "cell_type": "code",
      "source": "arr[0:2]",
      "metadata": {
        "trusted": true
      },
      "execution_count": 111,
      "outputs": [
        {
          "execution_count": 111,
          "output_type": "execute_result",
          "data": {
            "text/plain": "array([18, -2])"
          },
          "metadata": {}
        }
      ]
    },
    {
      "cell_type": "code",
      "source": "arr[::-1]",
      "metadata": {
        "trusted": true
      },
      "execution_count": 113,
      "outputs": [
        {
          "execution_count": 113,
          "output_type": "execute_result",
          "data": {
            "text/plain": "array([ 5, -4,  3, -2, 18])"
          },
          "metadata": {}
        }
      ]
    },
    {
      "cell_type": "code",
      "source": "arr[arr < 2]",
      "metadata": {
        "trusted": true
      },
      "execution_count": 115,
      "outputs": [
        {
          "execution_count": 115,
          "output_type": "execute_result",
          "data": {
            "text/plain": "array([-2, -4])"
          },
          "metadata": {}
        }
      ]
    },
    {
      "cell_type": "code",
      "source": "arr[(arr < 2) & (arr > 0)]",
      "metadata": {
        "trusted": true
      },
      "execution_count": 117,
      "outputs": [
        {
          "execution_count": 117,
          "output_type": "execute_result",
          "data": {
            "text/plain": "array([], dtype=int32)"
          },
          "metadata": {}
        }
      ]
    },
    {
      "cell_type": "code",
      "source": "arr[(arr < 4) | (arr > 0)]",
      "metadata": {
        "trusted": true
      },
      "execution_count": 119,
      "outputs": [
        {
          "execution_count": 119,
          "output_type": "execute_result",
          "data": {
            "text/plain": "array([18, -2,  3, -4,  5])"
          },
          "metadata": {}
        }
      ]
    },
    {
      "cell_type": "code",
      "source": "arr[1:4] = 0\narr",
      "metadata": {
        "trusted": true
      },
      "execution_count": 121,
      "outputs": [
        {
          "execution_count": 121,
          "output_type": "execute_result",
          "data": {
            "text/plain": "array([18,  0,  0,  0,  5])"
          },
          "metadata": {}
        }
      ]
    },
    {
      "cell_type": "code",
      "source": "matrix = np.array([(1, 2, 3), (4, 5, 6)], dtype=np.float64)\nmatrix",
      "metadata": {
        "trusted": true
      },
      "execution_count": 126,
      "outputs": [
        {
          "execution_count": 126,
          "output_type": "execute_result",
          "data": {
            "text/plain": "array([[1., 2., 3.],\n       [4., 5., 6.]])"
          },
          "metadata": {}
        }
      ]
    },
    {
      "cell_type": "code",
      "source": "matrix = np.array([(1, 2, 3), (4, 5, 6), (7, 8, 9)])\nmatrix",
      "metadata": {
        "trusted": true
      },
      "execution_count": 128,
      "outputs": [
        {
          "execution_count": 128,
          "output_type": "execute_result",
          "data": {
            "text/plain": "array([[1, 2, 3],\n       [4, 5, 6],\n       [7, 8, 9]])"
          },
          "metadata": {}
        }
      ]
    },
    {
      "cell_type": "code",
      "source": "print(matrix.shape)\nprint(matrix.ndim)\nprint(matrix.size)",
      "metadata": {
        "trusted": true
      },
      "execution_count": 130,
      "outputs": [
        {
          "name": "stdout",
          "text": "(3, 3)\n2\n9\n",
          "output_type": "stream"
        }
      ]
    },
    {
      "cell_type": "code",
      "source": "matrix.reshape(1, 9)  # трансформируем в 1 строку и 9 столбцов",
      "metadata": {
        "trusted": true
      },
      "execution_count": 134,
      "outputs": [
        {
          "execution_count": 134,
          "output_type": "execute_result",
          "data": {
            "text/plain": "array([[1, 2, 3, 4, 5, 6, 7, 8, 9]])"
          },
          "metadata": {}
        }
      ]
    },
    {
      "cell_type": "code",
      "source": "matrix = np.arange(1, 13).reshape(4, 3)\nmatrix",
      "metadata": {
        "trusted": true
      },
      "execution_count": 136,
      "outputs": [
        {
          "execution_count": 136,
          "output_type": "execute_result",
          "data": {
            "text/plain": "array([[ 1,  2,  3],\n       [ 4,  5,  6],\n       [ 7,  8,  9],\n       [10, 11, 12]])"
          },
          "metadata": {}
        }
      ]
    },
    {
      "cell_type": "code",
      "source": "matrix.reshape(2, 6)",
      "metadata": {
        "trusted": true
      },
      "execution_count": 138,
      "outputs": [
        {
          "execution_count": 138,
          "output_type": "execute_result",
          "data": {
            "text/plain": "array([[ 1,  2,  3,  4,  5,  6],\n       [ 7,  8,  9, 10, 11, 12]])"
          },
          "metadata": {}
        }
      ]
    },
    {
      "cell_type": "code",
      "source": "matrix2 = np.random.random((2, 2))\nmatrix2",
      "metadata": {
        "trusted": true
      },
      "execution_count": 141,
      "outputs": [
        {
          "execution_count": 141,
          "output_type": "execute_result",
          "data": {
            "text/plain": "array([[0.69000652, 0.38144328],\n       [0.00418274, 0.45499259]])"
          },
          "metadata": {}
        }
      ]
    },
    {
      "cell_type": "code",
      "source": "print(matrix)\nprint()\nmatrix = np.resize(matrix, (4, 4))\nprint(np.resize('Game', (3, 3)))\nprint()\nprint(matrix)  # https://numpy.org/doc/stable/reference/generated/numpy.resize.html",
      "metadata": {
        "trusted": true
      },
      "execution_count": 149,
      "outputs": [
        {
          "name": "stdout",
          "text": "[[ 1  2  3  4]\n [ 5  6  7  8]\n [ 9 10 11 12]\n [ 1  2  3  4]]\n\n[['Game' 'Game' 'Game']\n ['Game' 'Game' 'Game']\n ['Game' 'Game' 'Game']]\n\n[[ 1  2  3  4]\n [ 5  6  7  8]\n [ 9 10 11 12]\n [ 1  2  3  4]]\n",
          "output_type": "stream"
        }
      ]
    },
    {
      "cell_type": "code",
      "source": "np.zeros((3, 3))",
      "metadata": {
        "trusted": true
      },
      "execution_count": 151,
      "outputs": [
        {
          "execution_count": 151,
          "output_type": "execute_result",
          "data": {
            "text/plain": "array([[0., 0., 0.],\n       [0., 0., 0.],\n       [0., 0., 0.]])"
          },
          "metadata": {}
        }
      ]
    },
    {
      "cell_type": "code",
      "source": "np.ones((4, 5))",
      "metadata": {
        "trusted": true
      },
      "execution_count": 153,
      "outputs": [
        {
          "execution_count": 153,
          "output_type": "execute_result",
          "data": {
            "text/plain": "array([[1., 1., 1., 1., 1.],\n       [1., 1., 1., 1., 1.],\n       [1., 1., 1., 1., 1.],\n       [1., 1., 1., 1., 1.]])"
          },
          "metadata": {}
        }
      ]
    },
    {
      "cell_type": "code",
      "source": "np.eye(4)  # единичная матрица 4-го порядка",
      "metadata": {
        "trusted": true
      },
      "execution_count": 156,
      "outputs": [
        {
          "execution_count": 156,
          "output_type": "execute_result",
          "data": {
            "text/plain": "array([[1., 0., 0., 0.],\n       [0., 1., 0., 0.],\n       [0., 0., 1., 0.],\n       [0., 0., 0., 1.]])"
          },
          "metadata": {}
        }
      ]
    },
    {
      "cell_type": "code",
      "source": "np.full((4, 4), 21)  # заполняет матрицу значениями 21",
      "metadata": {
        "trusted": true
      },
      "execution_count": 161,
      "outputs": [
        {
          "execution_count": 161,
          "output_type": "execute_result",
          "data": {
            "text/plain": "array([[21, 21, 21, 21],\n       [21, 21, 21, 21],\n       [21, 21, 21, 21],\n       [21, 21, 21, 21]])"
          },
          "metadata": {}
        }
      ]
    },
    {
      "cell_type": "code",
      "source": "np.empty((3, 4), dtype=np.int16)  # поправка на тип",
      "metadata": {
        "trusted": true
      },
      "execution_count": 173,
      "outputs": [
        {
          "execution_count": 173,
          "output_type": "execute_result",
          "data": {
            "text/plain": "array([[18752,   708,  -776,    48],\n       [    0,     0,    17,     0],\n       [    0,     0,     0,     0]], dtype=int16)"
          },
          "metadata": {}
        }
      ]
    },
    {
      "cell_type": "code",
      "source": "matrix = np.array([[1, 2], [3, 4]])\nmatrix2 = np.array([[5, 6], [7, 8]])",
      "metadata": {
        "trusted": true
      },
      "execution_count": 175,
      "outputs": []
    },
    {
      "cell_type": "code",
      "source": "matrix3 = matrix.dot(matrix2)  # dot предлагает перемножать матрицы\nprint(matrix3)\nprint()\nmatrix4 = np.dot(matrix, matrix2)\nprint(matrix4)",
      "metadata": {
        "trusted": true
      },
      "execution_count": 181,
      "outputs": [
        {
          "name": "stdout",
          "text": "[[19 22]\n [43 50]]\n\n[[19 22]\n [43 50]]\n",
          "output_type": "stream"
        }
      ]
    },
    {
      "cell_type": "code",
      "source": "matrix5 = matrix @ matrix2  # знак @ позволяет скалярно перемножать матрицы\nmatrix5",
      "metadata": {
        "trusted": true
      },
      "execution_count": 184,
      "outputs": [
        {
          "execution_count": 184,
          "output_type": "execute_result",
          "data": {
            "text/plain": "array([[19, 22],\n       [43, 50]])"
          },
          "metadata": {}
        }
      ]
    },
    {
      "cell_type": "markdown",
      "source": "#### axis = 0 - ось cтрок, а axis = 1 - ось столбцов",
      "metadata": {}
    },
    {
      "cell_type": "code",
      "source": "matrix = np.arange(1, 10).reshape(3, 3)\nmatrix",
      "metadata": {
        "trusted": true
      },
      "execution_count": 189,
      "outputs": [
        {
          "execution_count": 189,
          "output_type": "execute_result",
          "data": {
            "text/plain": "array([[1, 2, 3],\n       [4, 5, 6],\n       [7, 8, 9]])"
          },
          "metadata": {}
        }
      ]
    },
    {
      "cell_type": "code",
      "source": "np.delete(matrix, 1, axis=0)",
      "metadata": {
        "trusted": true
      },
      "execution_count": 191,
      "outputs": [
        {
          "execution_count": 191,
          "output_type": "execute_result",
          "data": {
            "text/plain": "array([[1, 2, 3],\n       [7, 8, 9]])"
          },
          "metadata": {}
        }
      ]
    },
    {
      "cell_type": "code",
      "source": "np.delete(matrix, 2, axis=1)",
      "metadata": {
        "trusted": true
      },
      "execution_count": 193,
      "outputs": [
        {
          "execution_count": 193,
          "output_type": "execute_result",
          "data": {
            "text/plain": "array([[1, 2],\n       [4, 5],\n       [7, 8]])"
          },
          "metadata": {}
        }
      ]
    },
    {
      "cell_type": "code",
      "source": "matrix",
      "metadata": {
        "trusted": true
      },
      "execution_count": 195,
      "outputs": [
        {
          "execution_count": 195,
          "output_type": "execute_result",
          "data": {
            "text/plain": "array([[1, 2, 3],\n       [4, 5, 6],\n       [7, 8, 9]])"
          },
          "metadata": {}
        }
      ]
    },
    {
      "cell_type": "code",
      "source": "np.sin(matrix)",
      "metadata": {
        "trusted": true
      },
      "execution_count": 197,
      "outputs": [
        {
          "execution_count": 197,
          "output_type": "execute_result",
          "data": {
            "text/plain": "array([[ 0.84147098,  0.90929743,  0.14112001],\n       [-0.7568025 , -0.95892427, -0.2794155 ],\n       [ 0.6569866 ,  0.98935825,  0.41211849]])"
          },
          "metadata": {}
        }
      ]
    },
    {
      "cell_type": "code",
      "source": "np.log(matrix)",
      "metadata": {
        "trusted": true
      },
      "execution_count": 199,
      "outputs": [
        {
          "execution_count": 199,
          "output_type": "execute_result",
          "data": {
            "text/plain": "array([[0.        , 0.69314718, 1.09861229],\n       [1.38629436, 1.60943791, 1.79175947],\n       [1.94591015, 2.07944154, 2.19722458]])"
          },
          "metadata": {}
        }
      ]
    },
    {
      "cell_type": "code",
      "source": "matrix.sum()",
      "metadata": {
        "trusted": true
      },
      "execution_count": 201,
      "outputs": [
        {
          "execution_count": 201,
          "output_type": "execute_result",
          "data": {
            "text/plain": "45"
          },
          "metadata": {}
        }
      ]
    },
    {
      "cell_type": "code",
      "source": "print(matrix.sum(axis=0))  # складываем элементы каждого столбца\nprint(matrix.sum(axis=1))  # складываем элементы каждой строки",
      "metadata": {
        "trusted": true
      },
      "execution_count": 204,
      "outputs": [
        {
          "name": "stdout",
          "text": "[12 15 18]\n[ 6 15 24]\n",
          "output_type": "stream"
        }
      ]
    },
    {
      "cell_type": "code",
      "source": "matrix ** 2",
      "metadata": {
        "trusted": true
      },
      "execution_count": 206,
      "outputs": [
        {
          "execution_count": 206,
          "output_type": "execute_result",
          "data": {
            "text/plain": "array([[ 1,  4,  9],\n       [16, 25, 36],\n       [49, 64, 81]])"
          },
          "metadata": {}
        }
      ]
    },
    {
      "cell_type": "code",
      "source": "matrix2 = matrix + 9",
      "metadata": {
        "trusted": true
      },
      "execution_count": 208,
      "outputs": []
    },
    {
      "cell_type": "code",
      "source": "matrix2",
      "metadata": {
        "trusted": true
      },
      "execution_count": 209,
      "outputs": [
        {
          "execution_count": 209,
          "output_type": "execute_result",
          "data": {
            "text/plain": "array([[10, 11, 12],\n       [13, 14, 15],\n       [16, 17, 18]])"
          },
          "metadata": {}
        }
      ]
    },
    {
      "cell_type": "code",
      "source": "arr = np.concatenate((matrix, matrix2), axis=0)  # в строки превращаем и снизу добавляем\narr  # добавление в вертикальном направлении",
      "metadata": {
        "trusted": true
      },
      "execution_count": 215,
      "outputs": [
        {
          "execution_count": 215,
          "output_type": "execute_result",
          "data": {
            "text/plain": "array([[ 1,  2,  3],\n       [ 4,  5,  6],\n       [ 7,  8,  9],\n       [10, 11, 12],\n       [13, 14, 15],\n       [16, 17, 18]])"
          },
          "metadata": {}
        }
      ]
    },
    {
      "cell_type": "code",
      "source": "arr = np.vstack((matrix, matrix2))  # добавляем строки\narr",
      "metadata": {
        "trusted": true
      },
      "execution_count": 218,
      "outputs": [
        {
          "execution_count": 218,
          "output_type": "execute_result",
          "data": {
            "text/plain": "array([[ 1,  2,  3],\n       [ 4,  5,  6],\n       [ 7,  8,  9],\n       [10, 11, 12],\n       [13, 14, 15],\n       [16, 17, 18]])"
          },
          "metadata": {}
        }
      ]
    },
    {
      "cell_type": "code",
      "source": "arr = np.hstack((matrix, matrix2))  # добавляем столбцы\narr",
      "metadata": {
        "trusted": true
      },
      "execution_count": 221,
      "outputs": [
        {
          "execution_count": 221,
          "output_type": "execute_result",
          "data": {
            "text/plain": "array([[ 1,  2,  3, 10, 11, 12],\n       [ 4,  5,  6, 13, 14, 15],\n       [ 7,  8,  9, 16, 17, 18]])"
          },
          "metadata": {}
        }
      ]
    },
    {
      "cell_type": "code",
      "source": "np.split(arr, 3)  # разбиваем матрицу на 3 шт.",
      "metadata": {
        "trusted": true
      },
      "execution_count": 223,
      "outputs": [
        {
          "execution_count": 223,
          "output_type": "execute_result",
          "data": {
            "text/plain": "[array([[ 1,  2,  3, 10, 11, 12]]),\n array([[ 4,  5,  6, 13, 14, 15]]),\n array([[ 7,  8,  9, 16, 17, 18]])]"
          },
          "metadata": {}
        }
      ]
    },
    {
      "cell_type": "code",
      "source": "np.split(arr, 3, axis=1)  # по столбцам",
      "metadata": {
        "trusted": true
      },
      "execution_count": 225,
      "outputs": [
        {
          "execution_count": 225,
          "output_type": "execute_result",
          "data": {
            "text/plain": "[array([[1, 2],\n        [4, 5],\n        [7, 8]]),\n array([[ 3, 10],\n        [ 6, 13],\n        [ 9, 16]]),\n array([[11, 12],\n        [14, 15],\n        [17, 18]])]"
          },
          "metadata": {}
        }
      ]
    },
    {
      "cell_type": "code",
      "source": "np.append(np.arange(1, 10), np.array([2, 4]))",
      "metadata": {
        "trusted": true
      },
      "execution_count": 228,
      "outputs": [
        {
          "execution_count": 228,
          "output_type": "execute_result",
          "data": {
            "text/plain": "array([1, 2, 3, 4, 5, 6, 7, 8, 9, 2, 4])"
          },
          "metadata": {}
        }
      ]
    },
    {
      "cell_type": "code",
      "source": "matrix = np.arange(1, 10).reshape(3, 3)",
      "metadata": {
        "trusted": true
      },
      "execution_count": 230,
      "outputs": []
    },
    {
      "cell_type": "code",
      "source": "matrix[1, 2]",
      "metadata": {
        "trusted": true
      },
      "execution_count": 232,
      "outputs": [
        {
          "execution_count": 232,
          "output_type": "execute_result",
          "data": {
            "text/plain": "6"
          },
          "metadata": {}
        }
      ]
    },
    {
      "cell_type": "code",
      "source": "matrix[2]",
      "metadata": {
        "trusted": true
      },
      "execution_count": 233,
      "outputs": [
        {
          "execution_count": 233,
          "output_type": "execute_result",
          "data": {
            "text/plain": "array([7, 8, 9])"
          },
          "metadata": {}
        }
      ]
    },
    {
      "cell_type": "code",
      "source": "matrix[:, 2]",
      "metadata": {
        "trusted": true
      },
      "execution_count": 234,
      "outputs": [
        {
          "execution_count": 234,
          "output_type": "execute_result",
          "data": {
            "text/plain": "array([3, 6, 9])"
          },
          "metadata": {}
        }
      ]
    },
    {
      "cell_type": "code",
      "source": "matrix",
      "metadata": {
        "trusted": true
      },
      "execution_count": 235,
      "outputs": [
        {
          "execution_count": 235,
          "output_type": "execute_result",
          "data": {
            "text/plain": "array([[1, 2, 3],\n       [4, 5, 6],\n       [7, 8, 9]])"
          },
          "metadata": {}
        }
      ]
    },
    {
      "cell_type": "code",
      "source": "matrix[1:13, 0:2]",
      "metadata": {
        "trusted": true
      },
      "execution_count": 236,
      "outputs": [
        {
          "execution_count": 236,
          "output_type": "execute_result",
          "data": {
            "text/plain": "array([[4, 5],\n       [7, 8]])"
          },
          "metadata": {}
        }
      ]
    },
    {
      "cell_type": "code",
      "source": "matrix[matrix > 5]",
      "metadata": {
        "trusted": true
      },
      "execution_count": 237,
      "outputs": [
        {
          "execution_count": 237,
          "output_type": "execute_result",
          "data": {
            "text/plain": "array([6, 7, 8, 9])"
          },
          "metadata": {}
        }
      ]
    },
    {
      "cell_type": "code",
      "source": "matrix.T  # транспонирование",
      "metadata": {
        "trusted": true
      },
      "execution_count": 238,
      "outputs": [
        {
          "execution_count": 238,
          "output_type": "execute_result",
          "data": {
            "text/plain": "array([[1, 4, 7],\n       [2, 5, 8],\n       [3, 6, 9]])"
          },
          "metadata": {}
        }
      ]
    },
    {
      "cell_type": "code",
      "source": "matrix.flatten()  # возвращает матрицу превращённую в одну строку",
      "metadata": {
        "trusted": true
      },
      "execution_count": 240,
      "outputs": [
        {
          "execution_count": 240,
          "output_type": "execute_result",
          "data": {
            "text/plain": "array([1, 2, 3, 4, 5, 6, 7, 8, 9])"
          },
          "metadata": {}
        }
      ]
    },
    {
      "cell_type": "code",
      "source": "np.linalg.inv(matrix)  # возвращает обратную матрицу",
      "metadata": {
        "trusted": true
      },
      "execution_count": 241,
      "outputs": [
        {
          "execution_count": 241,
          "output_type": "execute_result",
          "data": {
            "text/plain": "array([[-4.50359963e+15,  9.00719925e+15, -4.50359963e+15],\n       [ 9.00719925e+15, -1.80143985e+16,  9.00719925e+15],\n       [-4.50359963e+15,  9.00719925e+15, -4.50359963e+15]])"
          },
          "metadata": {}
        }
      ]
    },
    {
      "cell_type": "code",
      "source": "np.trace(matrix)  # след матрицы - это сумма её элементов главной диагонали",
      "metadata": {
        "trusted": true
      },
      "execution_count": 242,
      "outputs": [
        {
          "execution_count": 242,
          "output_type": "execute_result",
          "data": {
            "text/plain": "15"
          },
          "metadata": {}
        }
      ]
    },
    {
      "cell_type": "code",
      "source": "np.linalg.det(matrix)  # определитель матрицы",
      "metadata": {
        "trusted": true
      },
      "execution_count": 243,
      "outputs": [
        {
          "execution_count": 243,
          "output_type": "execute_result",
          "data": {
            "text/plain": "6.66133814775094e-16"
          },
          "metadata": {}
        }
      ]
    },
    {
      "cell_type": "code",
      "source": "np.linalg.matrix_rank(matrix)  # ранг матрицы",
      "metadata": {
        "trusted": true
      },
      "execution_count": 244,
      "outputs": [
        {
          "execution_count": 244,
          "output_type": "execute_result",
          "data": {
            "text/plain": "2"
          },
          "metadata": {}
        }
      ]
    },
    {
      "cell_type": "code",
      "source": "eigenvalues, eigenvectors = np.linalg.eig(matrix)  # собственные числа и вектор\nprint(eigenvalues)\nprint(eigenvectors)",
      "metadata": {
        "trusted": true
      },
      "execution_count": 253,
      "outputs": [
        {
          "name": "stdout",
          "text": "[ 1.61168440e+01 -1.11684397e+00 -1.30367773e-15]\n[[-0.23197069 -0.78583024  0.40824829]\n [-0.52532209 -0.08675134 -0.81649658]\n [-0.8186735   0.61232756  0.40824829]]\n",
          "output_type": "stream"
        }
      ]
    },
    {
      "cell_type": "code",
      "source": "# np.loadtxt('file.txt')  -> загрузка из текстового файла\n# np.genfromtxt('file.csv', delimeter=', ')  -> загрузка из csv файла\n# np.savetxt('file.txt', arr, delimeter=' ')  -> запись в текстовый файл\n# np.savetxt('file.csv', arr, delimeter=', ')  -> запись в csv файл",
      "metadata": {
        "trusted": true
      },
      "execution_count": 254,
      "outputs": []
    }
  ]
}