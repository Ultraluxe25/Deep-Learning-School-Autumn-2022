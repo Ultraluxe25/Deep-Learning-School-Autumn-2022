{
 "cells": [
  {
   "cell_type": "code",
   "execution_count": 1,
   "id": "d2aac6d2",
   "metadata": {},
   "outputs": [],
   "source": [
    "name = \"Каптуров Александр Васильевич\""
   ]
  },
  {
   "cell_type": "code",
   "execution_count": 6,
   "id": "6548c52e",
   "metadata": {},
   "outputs": [
    {
     "data": {
      "text/plain": [
       "['Каптуров', 'Александр Васильевич']"
      ]
     },
     "execution_count": 6,
     "metadata": {},
     "output_type": "execute_result"
    }
   ],
   "source": [
    "name.split(' ', maxsplit=1)  # создаёт список из нескольких строк"
   ]
  },
  {
   "cell_type": "code",
   "execution_count": 8,
   "id": "b430bf2f",
   "metadata": {},
   "outputs": [
    {
     "data": {
      "text/plain": [
       "['ArithmeticError',\n",
       " 'AssertionError',\n",
       " 'AttributeError',\n",
       " 'BaseException',\n",
       " 'BlockingIOError',\n",
       " 'BrokenPipeError',\n",
       " 'BufferError',\n",
       " 'BytesWarning',\n",
       " 'ChildProcessError',\n",
       " 'ConnectionAbortedError',\n",
       " 'ConnectionError',\n",
       " 'ConnectionRefusedError',\n",
       " 'ConnectionResetError',\n",
       " 'DeprecationWarning',\n",
       " 'EOFError',\n",
       " 'Ellipsis',\n",
       " 'EnvironmentError',\n",
       " 'Exception',\n",
       " 'False',\n",
       " 'FileExistsError',\n",
       " 'FileNotFoundError',\n",
       " 'FloatingPointError',\n",
       " 'FutureWarning',\n",
       " 'GeneratorExit',\n",
       " 'IOError',\n",
       " 'ImportError',\n",
       " 'ImportWarning',\n",
       " 'IndentationError',\n",
       " 'IndexError',\n",
       " 'InterruptedError',\n",
       " 'IsADirectoryError',\n",
       " 'KeyError',\n",
       " 'KeyboardInterrupt',\n",
       " 'LookupError',\n",
       " 'MemoryError',\n",
       " 'ModuleNotFoundError',\n",
       " 'NameError',\n",
       " 'None',\n",
       " 'NotADirectoryError',\n",
       " 'NotImplemented',\n",
       " 'NotImplementedError',\n",
       " 'OSError',\n",
       " 'OverflowError',\n",
       " 'PendingDeprecationWarning',\n",
       " 'PermissionError',\n",
       " 'ProcessLookupError',\n",
       " 'RecursionError',\n",
       " 'ReferenceError',\n",
       " 'ResourceWarning',\n",
       " 'RuntimeError',\n",
       " 'RuntimeWarning',\n",
       " 'StopAsyncIteration',\n",
       " 'StopIteration',\n",
       " 'SyntaxError',\n",
       " 'SyntaxWarning',\n",
       " 'SystemError',\n",
       " 'SystemExit',\n",
       " 'TabError',\n",
       " 'TimeoutError',\n",
       " 'True',\n",
       " 'TypeError',\n",
       " 'UnboundLocalError',\n",
       " 'UnicodeDecodeError',\n",
       " 'UnicodeEncodeError',\n",
       " 'UnicodeError',\n",
       " 'UnicodeTranslateError',\n",
       " 'UnicodeWarning',\n",
       " 'UserWarning',\n",
       " 'ValueError',\n",
       " 'Warning',\n",
       " 'WindowsError',\n",
       " 'ZeroDivisionError',\n",
       " '__IPYTHON__',\n",
       " '__build_class__',\n",
       " '__debug__',\n",
       " '__doc__',\n",
       " '__import__',\n",
       " '__loader__',\n",
       " '__name__',\n",
       " '__package__',\n",
       " '__spec__',\n",
       " 'abs',\n",
       " 'all',\n",
       " 'any',\n",
       " 'ascii',\n",
       " 'bin',\n",
       " 'bool',\n",
       " 'breakpoint',\n",
       " 'bytearray',\n",
       " 'bytes',\n",
       " 'callable',\n",
       " 'chr',\n",
       " 'classmethod',\n",
       " 'compile',\n",
       " 'complex',\n",
       " 'copyright',\n",
       " 'credits',\n",
       " 'delattr',\n",
       " 'dict',\n",
       " 'dir',\n",
       " 'display',\n",
       " 'divmod',\n",
       " 'enumerate',\n",
       " 'eval',\n",
       " 'exec',\n",
       " 'execfile',\n",
       " 'filter',\n",
       " 'float',\n",
       " 'format',\n",
       " 'frozenset',\n",
       " 'get_ipython',\n",
       " 'getattr',\n",
       " 'globals',\n",
       " 'hasattr',\n",
       " 'hash',\n",
       " 'help',\n",
       " 'hex',\n",
       " 'id',\n",
       " 'input',\n",
       " 'int',\n",
       " 'isinstance',\n",
       " 'issubclass',\n",
       " 'iter',\n",
       " 'len',\n",
       " 'license',\n",
       " 'list',\n",
       " 'locals',\n",
       " 'map',\n",
       " 'max',\n",
       " 'memoryview',\n",
       " 'min',\n",
       " 'next',\n",
       " 'object',\n",
       " 'oct',\n",
       " 'open',\n",
       " 'ord',\n",
       " 'pow',\n",
       " 'print',\n",
       " 'property',\n",
       " 'range',\n",
       " 'repr',\n",
       " 'reversed',\n",
       " 'round',\n",
       " 'runfile',\n",
       " 'set',\n",
       " 'setattr',\n",
       " 'slice',\n",
       " 'sorted',\n",
       " 'staticmethod',\n",
       " 'str',\n",
       " 'sum',\n",
       " 'super',\n",
       " 'tuple',\n",
       " 'type',\n",
       " 'vars',\n",
       " 'zip']"
      ]
     },
     "execution_count": 8,
     "metadata": {},
     "output_type": "execute_result"
    }
   ],
   "source": [
    "dir(__builtin__)  # dir выводит список всех атрибутов (полей и методов) объекта или класса"
   ]
  },
  {
   "cell_type": "code",
   "execution_count": 9,
   "id": "95ef7157",
   "metadata": {},
   "outputs": [
    {
     "data": {
      "text/plain": [
       "['__add__',\n",
       " '__class__',\n",
       " '__contains__',\n",
       " '__delattr__',\n",
       " '__dir__',\n",
       " '__doc__',\n",
       " '__eq__',\n",
       " '__format__',\n",
       " '__ge__',\n",
       " '__getattribute__',\n",
       " '__getitem__',\n",
       " '__getnewargs__',\n",
       " '__gt__',\n",
       " '__hash__',\n",
       " '__init__',\n",
       " '__init_subclass__',\n",
       " '__iter__',\n",
       " '__le__',\n",
       " '__len__',\n",
       " '__lt__',\n",
       " '__mod__',\n",
       " '__mul__',\n",
       " '__ne__',\n",
       " '__new__',\n",
       " '__reduce__',\n",
       " '__reduce_ex__',\n",
       " '__repr__',\n",
       " '__rmod__',\n",
       " '__rmul__',\n",
       " '__setattr__',\n",
       " '__sizeof__',\n",
       " '__str__',\n",
       " '__subclasshook__',\n",
       " 'capitalize',\n",
       " 'casefold',\n",
       " 'center',\n",
       " 'count',\n",
       " 'encode',\n",
       " 'endswith',\n",
       " 'expandtabs',\n",
       " 'find',\n",
       " 'format',\n",
       " 'format_map',\n",
       " 'index',\n",
       " 'isalnum',\n",
       " 'isalpha',\n",
       " 'isascii',\n",
       " 'isdecimal',\n",
       " 'isdigit',\n",
       " 'isidentifier',\n",
       " 'islower',\n",
       " 'isnumeric',\n",
       " 'isprintable',\n",
       " 'isspace',\n",
       " 'istitle',\n",
       " 'isupper',\n",
       " 'join',\n",
       " 'ljust',\n",
       " 'lower',\n",
       " 'lstrip',\n",
       " 'maketrans',\n",
       " 'partition',\n",
       " 'removeprefix',\n",
       " 'removesuffix',\n",
       " 'replace',\n",
       " 'rfind',\n",
       " 'rindex',\n",
       " 'rjust',\n",
       " 'rpartition',\n",
       " 'rsplit',\n",
       " 'rstrip',\n",
       " 'split',\n",
       " 'splitlines',\n",
       " 'startswith',\n",
       " 'strip',\n",
       " 'swapcase',\n",
       " 'title',\n",
       " 'translate',\n",
       " 'upper',\n",
       " 'zfill']"
      ]
     },
     "execution_count": 9,
     "metadata": {},
     "output_type": "execute_result"
    }
   ],
   "source": [
    "dir(str)  # выведем список всех атрибутов класса String"
   ]
  },
  {
   "cell_type": "code",
   "execution_count": 11,
   "id": "1ccfd578",
   "metadata": {},
   "outputs": [],
   "source": [
    "?int  # ?<название объекта (класса)> для вывода краткой справки"
   ]
  },
  {
   "cell_type": "code",
   "execution_count": 2,
   "id": "07f77816",
   "metadata": {},
   "outputs": [],
   "source": [
    "t = ('a', 5, 12.345)"
   ]
  },
  {
   "cell_type": "code",
   "execution_count": 4,
   "id": "1f0d19a6",
   "metadata": {},
   "outputs": [
    {
     "ename": "AttributeError",
     "evalue": "'tuple' object has no attribute 'append'",
     "output_type": "error",
     "traceback": [
      "\u001b[1;31m---------------------------------------------------------------------------\u001b[0m",
      "\u001b[1;31mAttributeError\u001b[0m                            Traceback (most recent call last)",
      "Input \u001b[1;32mIn [4]\u001b[0m, in \u001b[0;36m<cell line: 1>\u001b[1;34m()\u001b[0m\n\u001b[1;32m----> 1\u001b[0m \u001b[43mt\u001b[49m\u001b[38;5;241;43m.\u001b[39;49m\u001b[43mappend\u001b[49m(\u001b[38;5;241m5\u001b[39m)\n",
      "\u001b[1;31mAttributeError\u001b[0m: 'tuple' object has no attribute 'append'"
     ]
    }
   ],
   "source": [
    "t.append(5)"
   ]
  },
  {
   "cell_type": "code",
   "execution_count": 6,
   "id": "b9f2ba21",
   "metadata": {},
   "outputs": [
    {
     "data": {
      "text/plain": [
       "['__add__',\n",
       " '__class__',\n",
       " '__class_getitem__',\n",
       " '__contains__',\n",
       " '__delattr__',\n",
       " '__dir__',\n",
       " '__doc__',\n",
       " '__eq__',\n",
       " '__format__',\n",
       " '__ge__',\n",
       " '__getattribute__',\n",
       " '__getitem__',\n",
       " '__getnewargs__',\n",
       " '__gt__',\n",
       " '__hash__',\n",
       " '__init__',\n",
       " '__init_subclass__',\n",
       " '__iter__',\n",
       " '__le__',\n",
       " '__len__',\n",
       " '__lt__',\n",
       " '__mul__',\n",
       " '__ne__',\n",
       " '__new__',\n",
       " '__reduce__',\n",
       " '__reduce_ex__',\n",
       " '__repr__',\n",
       " '__rmul__',\n",
       " '__setattr__',\n",
       " '__sizeof__',\n",
       " '__str__',\n",
       " '__subclasshook__',\n",
       " 'count',\n",
       " 'index']"
      ]
     },
     "execution_count": 6,
     "metadata": {},
     "output_type": "execute_result"
    }
   ],
   "source": [
    "dir(t)"
   ]
  },
  {
   "cell_type": "code",
   "execution_count": 8,
   "id": "912c790d",
   "metadata": {},
   "outputs": [
    {
     "data": {
      "text/plain": [
       "0"
      ]
     },
     "execution_count": 8,
     "metadata": {},
     "output_type": "execute_result"
    }
   ],
   "source": [
    "t.index('a')"
   ]
  },
  {
   "cell_type": "code",
   "execution_count": 10,
   "id": "cac13c6c",
   "metadata": {},
   "outputs": [
    {
     "data": {
      "text/plain": [
       "12.345"
      ]
     },
     "execution_count": 10,
     "metadata": {},
     "output_type": "execute_result"
    }
   ],
   "source": [
    "t[2]"
   ]
  },
  {
   "cell_type": "code",
   "execution_count": 12,
   "id": "45a0a817",
   "metadata": {},
   "outputs": [],
   "source": [
    "m = (1, 2, 3)"
   ]
  },
  {
   "cell_type": "code",
   "execution_count": 15,
   "id": "5c50a87a",
   "metadata": {},
   "outputs": [
    {
     "data": {
      "text/plain": [
       "('a', 5, 12.345, 1, 2, 3)"
      ]
     },
     "execution_count": 15,
     "metadata": {},
     "output_type": "execute_result"
    }
   ],
   "source": [
    "t + m  # добавляет значения второго кортежа к первому и создаётся новый кортеж"
   ]
  },
  {
   "cell_type": "code",
   "execution_count": 17,
   "id": "9896369a",
   "metadata": {},
   "outputs": [
    {
     "ename": "TypeError",
     "evalue": "unsupported operand type(s) for -: 'tuple' and 'tuple'",
     "output_type": "error",
     "traceback": [
      "\u001b[1;31m---------------------------------------------------------------------------\u001b[0m",
      "\u001b[1;31mTypeError\u001b[0m                                 Traceback (most recent call last)",
      "Input \u001b[1;32mIn [17]\u001b[0m, in \u001b[0;36m<cell line: 1>\u001b[1;34m()\u001b[0m\n\u001b[1;32m----> 1\u001b[0m \u001b[43mt\u001b[49m\u001b[43m \u001b[49m\u001b[38;5;241;43m-\u001b[39;49m\u001b[43m \u001b[49m\u001b[43mm\u001b[49m\n",
      "\u001b[1;31mTypeError\u001b[0m: unsupported operand type(s) for -: 'tuple' and 'tuple'"
     ]
    }
   ],
   "source": [
    "t - m"
   ]
  },
  {
   "cell_type": "code",
   "execution_count": 19,
   "id": "f3b4ad9e",
   "metadata": {},
   "outputs": [
    {
     "data": {
      "text/plain": [
       "3"
      ]
     },
     "execution_count": 19,
     "metadata": {},
     "output_type": "execute_result"
    }
   ],
   "source": [
    "len(m)"
   ]
  },
  {
   "cell_type": "code",
   "execution_count": 37,
   "id": "81586860",
   "metadata": {},
   "outputs": [],
   "source": [
    "a = iter(range(1, 10))  # создаём итератор с помощью функции iter()"
   ]
  },
  {
   "cell_type": "code",
   "execution_count": 38,
   "id": "d1660420",
   "metadata": {},
   "outputs": [
    {
     "data": {
      "text/plain": [
       "1"
      ]
     },
     "execution_count": 38,
     "metadata": {},
     "output_type": "execute_result"
    }
   ],
   "source": [
    "next(a)  # выводим значение следующей итерации"
   ]
  },
  {
   "cell_type": "code",
   "execution_count": 39,
   "id": "a706d028",
   "metadata": {},
   "outputs": [
    {
     "data": {
      "text/plain": [
       "3"
      ]
     },
     "execution_count": 39,
     "metadata": {},
     "output_type": "execute_result"
    }
   ],
   "source": [
    "next(a)\n",
    "next(a)"
   ]
  },
  {
   "cell_type": "code",
   "execution_count": 40,
   "id": "a4b444f5",
   "metadata": {},
   "outputs": [
    {
     "data": {
      "text/plain": [
       "4"
      ]
     },
     "execution_count": 40,
     "metadata": {},
     "output_type": "execute_result"
    }
   ],
   "source": [
    "next(a)"
   ]
  },
  {
   "cell_type": "code",
   "execution_count": 47,
   "id": "c8fac2af",
   "metadata": {},
   "outputs": [
    {
     "ename": "StopIteration",
     "evalue": "",
     "output_type": "error",
     "traceback": [
      "\u001b[1;31m---------------------------------------------------------------------------\u001b[0m",
      "\u001b[1;31mStopIteration\u001b[0m                             Traceback (most recent call last)",
      "Input \u001b[1;32mIn [47]\u001b[0m, in \u001b[0;36m<cell line: 1>\u001b[1;34m()\u001b[0m\n\u001b[1;32m----> 1\u001b[0m \u001b[38;5;28;43mnext\u001b[39;49m\u001b[43m(\u001b[49m\u001b[43ma\u001b[49m\u001b[43m)\u001b[49m\n",
      "\u001b[1;31mStopIteration\u001b[0m: "
     ]
    }
   ],
   "source": [
    "next(a)"
   ]
  },
  {
   "cell_type": "code",
   "execution_count": 50,
   "id": "b44bb32e",
   "metadata": {},
   "outputs": [
    {
     "data": {
      "text/plain": [
       "range"
      ]
     },
     "execution_count": 50,
     "metadata": {},
     "output_type": "execute_result"
    }
   ],
   "source": [
    "type(range(1, 10))"
   ]
  },
  {
   "cell_type": "code",
   "execution_count": 52,
   "id": "c209a18d",
   "metadata": {},
   "outputs": [],
   "source": [
    "lst = list(range(1, 11))"
   ]
  },
  {
   "cell_type": "code",
   "execution_count": 82,
   "id": "d5d2e126",
   "metadata": {},
   "outputs": [
    {
     "data": {
      "text/plain": [
       "[1, 2, 3, 4, 5, 6, 7, 8, 9, 10]"
      ]
     },
     "execution_count": 82,
     "metadata": {},
     "output_type": "execute_result"
    }
   ],
   "source": [
    "lst"
   ]
  },
  {
   "cell_type": "code",
   "execution_count": 76,
   "id": "a9df1cd0",
   "metadata": {},
   "outputs": [],
   "source": [
    "new_lst = lst[len(lst): 0: -1]"
   ]
  },
  {
   "cell_type": "code",
   "execution_count": 78,
   "id": "d05f79e2",
   "metadata": {},
   "outputs": [
    {
     "data": {
      "text/plain": [
       "[10, 9, 8, 7, 6, 5, 4, 3, 2]"
      ]
     },
     "execution_count": 78,
     "metadata": {},
     "output_type": "execute_result"
    }
   ],
   "source": [
    "new_lst  # что за бред???"
   ]
  },
  {
   "cell_type": "code",
   "execution_count": 83,
   "id": "383cddfc",
   "metadata": {},
   "outputs": [
    {
     "data": {
      "text/plain": [
       "[]"
      ]
     },
     "execution_count": 83,
     "metadata": {},
     "output_type": "execute_result"
    }
   ],
   "source": [
    "new_lst = lst[len(lst) - 1: -1: -1]\n",
    "new_lst"
   ]
  },
  {
   "cell_type": "code",
   "execution_count": 85,
   "id": "a751d94c",
   "metadata": {},
   "outputs": [
    {
     "ename": "IndexError",
     "evalue": "list index out of range",
     "output_type": "error",
     "traceback": [
      "\u001b[1;31m---------------------------------------------------------------------------\u001b[0m",
      "\u001b[1;31mIndexError\u001b[0m                                Traceback (most recent call last)",
      "Input \u001b[1;32mIn [85]\u001b[0m, in \u001b[0;36m<cell line: 1>\u001b[1;34m()\u001b[0m\n\u001b[1;32m----> 1\u001b[0m \u001b[43mlst\u001b[49m\u001b[43m[\u001b[49m\u001b[38;5;28;43mlen\u001b[39;49m\u001b[43m(\u001b[49m\u001b[43mlst\u001b[49m\u001b[43m)\u001b[49m\u001b[43m]\u001b[49m\n",
      "\u001b[1;31mIndexError\u001b[0m: list index out of range"
     ]
    }
   ],
   "source": [
    "lst[len(lst)]"
   ]
  },
  {
   "cell_type": "code",
   "execution_count": 87,
   "id": "2de87f32",
   "metadata": {
    "scrolled": true
   },
   "outputs": [
    {
     "data": {
      "text/plain": [
       "[10, 9, 8, 7, 6, 5, 4, 3, 2, 1]"
      ]
     },
     "execution_count": 87,
     "metadata": {},
     "output_type": "execute_result"
    }
   ],
   "source": [
    "lst[::-1]  # перевернули список"
   ]
  },
  {
   "cell_type": "code",
   "execution_count": 89,
   "id": "68745656",
   "metadata": {},
   "outputs": [
    {
     "data": {
      "text/plain": [
       "list"
      ]
     },
     "execution_count": 89,
     "metadata": {},
     "output_type": "execute_result"
    }
   ],
   "source": [
    "type(lst[2:5])"
   ]
  },
  {
   "cell_type": "code",
   "execution_count": 91,
   "id": "873317f3",
   "metadata": {},
   "outputs": [
    {
     "data": {
      "text/plain": [
       "slice(2, 5, None)"
      ]
     },
     "execution_count": 91,
     "metadata": {},
     "output_type": "execute_result"
    }
   ],
   "source": [
    "slice(2, 5)"
   ]
  },
  {
   "cell_type": "code",
   "execution_count": 93,
   "id": "192a8aca",
   "metadata": {},
   "outputs": [
    {
     "data": {
      "text/plain": [
       "slice"
      ]
     },
     "execution_count": 93,
     "metadata": {},
     "output_type": "execute_result"
    }
   ],
   "source": [
    "type(slice(10))"
   ]
  },
  {
   "cell_type": "code",
   "execution_count": 95,
   "id": "77e0da34",
   "metadata": {},
   "outputs": [
    {
     "data": {
      "text/plain": [
       "slice(None, 10, None)"
      ]
     },
     "execution_count": 95,
     "metadata": {},
     "output_type": "execute_result"
    }
   ],
   "source": [
    "slice(10)"
   ]
  },
  {
   "cell_type": "code",
   "execution_count": 97,
   "id": "70221064",
   "metadata": {},
   "outputs": [
    {
     "data": {
      "text/plain": [
       "[3, 4, 5]"
      ]
     },
     "execution_count": 97,
     "metadata": {},
     "output_type": "execute_result"
    }
   ],
   "source": [
    "lst[slice(2, 5)]  # вот зачем была нужна функция slice"
   ]
  },
  {
   "cell_type": "code",
   "execution_count": 99,
   "id": "b975056a",
   "metadata": {},
   "outputs": [
    {
     "data": {
      "text/plain": [
       "[1, 2, 3, 4, 5, 6]"
      ]
     },
     "execution_count": 99,
     "metadata": {},
     "output_type": "execute_result"
    }
   ],
   "source": [
    "[1, 2, 3] + [4, 5, 6]  # склеиваем списки"
   ]
  },
  {
   "cell_type": "code",
   "execution_count": 101,
   "id": "1cb27b4a",
   "metadata": {},
   "outputs": [
    {
     "data": {
      "text/plain": [
       "['__add__',\n",
       " '__class__',\n",
       " '__class_getitem__',\n",
       " '__contains__',\n",
       " '__delattr__',\n",
       " '__delitem__',\n",
       " '__dir__',\n",
       " '__doc__',\n",
       " '__eq__',\n",
       " '__format__',\n",
       " '__ge__',\n",
       " '__getattribute__',\n",
       " '__getitem__',\n",
       " '__gt__',\n",
       " '__hash__',\n",
       " '__iadd__',\n",
       " '__imul__',\n",
       " '__init__',\n",
       " '__init_subclass__',\n",
       " '__iter__',\n",
       " '__le__',\n",
       " '__len__',\n",
       " '__lt__',\n",
       " '__mul__',\n",
       " '__ne__',\n",
       " '__new__',\n",
       " '__reduce__',\n",
       " '__reduce_ex__',\n",
       " '__repr__',\n",
       " '__reversed__',\n",
       " '__rmul__',\n",
       " '__setattr__',\n",
       " '__setitem__',\n",
       " '__sizeof__',\n",
       " '__str__',\n",
       " '__subclasshook__',\n",
       " 'append',\n",
       " 'clear',\n",
       " 'copy',\n",
       " 'count',\n",
       " 'extend',\n",
       " 'index',\n",
       " 'insert',\n",
       " 'pop',\n",
       " 'remove',\n",
       " 'reverse',\n",
       " 'sort']"
      ]
     },
     "execution_count": 101,
     "metadata": {},
     "output_type": "execute_result"
    }
   ],
   "source": [
    "dir(list)"
   ]
  },
  {
   "cell_type": "code",
   "execution_count": 110,
   "id": "651d8714",
   "metadata": {},
   "outputs": [
    {
     "data": {
      "text/plain": [
       "['Tom', 'Olga', 'Sasha', 'Janya']"
      ]
     },
     "execution_count": 110,
     "metadata": {},
     "output_type": "execute_result"
    }
   ],
   "source": [
    "names = ['Sasha', 'Janya', 'Olga', 'Tom']\n",
    "sort_names = sorted(names, key=lambda x: len(x))  # sorted не изменил изначальный list,\n",
    "# а вот метод list.sort изменяет существующий объет\n",
    "sort_names"
   ]
  },
  {
   "cell_type": "code",
   "execution_count": 109,
   "id": "bda53da9",
   "metadata": {},
   "outputs": [
    {
     "data": {
      "text/plain": [
       "['Sasha', 'Janya', 'Olga', 'Tom']"
      ]
     },
     "execution_count": 109,
     "metadata": {},
     "output_type": "execute_result"
    }
   ],
   "source": [
    "names"
   ]
  },
  {
   "cell_type": "code",
   "execution_count": 111,
   "id": "e623ee91",
   "metadata": {},
   "outputs": [
    {
     "data": {
      "text/plain": [
       "['Tom', 'Olga', 'Sasha', 'Janya']"
      ]
     },
     "execution_count": 111,
     "metadata": {},
     "output_type": "execute_result"
    }
   ],
   "source": [
    "names.sort(key=lambda x: len(x))\n",
    "names"
   ]
  },
  {
   "cell_type": "code",
   "execution_count": 113,
   "id": "321d1cb9",
   "metadata": {},
   "outputs": [
    {
     "data": {
      "text/plain": [
       "1"
      ]
     },
     "execution_count": 113,
     "metadata": {},
     "output_type": "execute_result"
    }
   ],
   "source": [
    "names.index('Olga')"
   ]
  },
  {
   "cell_type": "code",
   "execution_count": 116,
   "id": "74fbd2ed",
   "metadata": {},
   "outputs": [
    {
     "ename": "ValueError",
     "evalue": "2 is not in list",
     "output_type": "error",
     "traceback": [
      "\u001b[1;31m---------------------------------------------------------------------------\u001b[0m",
      "\u001b[1;31mValueError\u001b[0m                                Traceback (most recent call last)",
      "Input \u001b[1;32mIn [116]\u001b[0m, in \u001b[0;36m<cell line: 1>\u001b[1;34m()\u001b[0m\n\u001b[1;32m----> 1\u001b[0m \u001b[43mnames\u001b[49m\u001b[38;5;241;43m.\u001b[39;49m\u001b[43mindex\u001b[49m\u001b[43m(\u001b[49m\u001b[38;5;241;43m2\u001b[39;49m\u001b[43m)\u001b[49m\n",
      "\u001b[1;31mValueError\u001b[0m: 2 is not in list"
     ]
    }
   ],
   "source": [
    "names.index(2)"
   ]
  },
  {
   "cell_type": "code",
   "execution_count": 117,
   "id": "75815d28",
   "metadata": {},
   "outputs": [],
   "source": [
    "items = [1, 5, 6, 9, 8, 7, 2, 3, 4]\n",
    "shuffled_items = [2, 3, 4, 1, 6, 5, 7, 9, 8]"
   ]
  },
  {
   "cell_type": "code",
   "execution_count": 120,
   "id": "08e26783",
   "metadata": {},
   "outputs": [],
   "source": [
    "items.sort(key=shuffled_items.index)"
   ]
  },
  {
   "cell_type": "code",
   "execution_count": 122,
   "id": "31340899",
   "metadata": {},
   "outputs": [
    {
     "data": {
      "text/plain": [
       "[2, 3, 4, 1, 6, 5, 7, 9, 8]"
      ]
     },
     "execution_count": 122,
     "metadata": {},
     "output_type": "execute_result"
    }
   ],
   "source": [
    "items"
   ]
  },
  {
   "cell_type": "code",
   "execution_count": 126,
   "id": "96c90bd4",
   "metadata": {},
   "outputs": [
    {
     "data": {
      "text/plain": [
       "<zip at 0x1c9accacf00>"
      ]
     },
     "execution_count": 126,
     "metadata": {},
     "output_type": "execute_result"
    }
   ],
   "source": [
    "first = 'a b d  e      f g'.split()  # создаёт список. Разделитель по дефолту пробелы\n",
    "second = '1 2 3 4 '.split()\n",
    "zip(first, second)"
   ]
  },
  {
   "cell_type": "code",
   "execution_count": 128,
   "id": "bb4390fa",
   "metadata": {},
   "outputs": [
    {
     "data": {
      "text/plain": [
       "(['a', 'b', 'd', 'e', 'f', 'g'], ['1', '2', '3', '4'])"
      ]
     },
     "execution_count": 128,
     "metadata": {},
     "output_type": "execute_result"
    }
   ],
   "source": [
    "first, second"
   ]
  },
  {
   "cell_type": "code",
   "execution_count": 131,
   "id": "3db6d55f",
   "metadata": {},
   "outputs": [
    {
     "data": {
      "text/plain": [
       "[('a', '1', 'a'), ('b', '2', 'b'), ('d', '3', 'd'), ('e', '4', 'e')]"
      ]
     },
     "execution_count": 131,
     "metadata": {},
     "output_type": "execute_result"
    }
   ],
   "source": [
    "list(zip(first, second, first))  # создали список кортежей-пар значений коллекций по индексам"
   ]
  },
  {
   "cell_type": "code",
   "execution_count": 136,
   "id": "68ba7c19",
   "metadata": {},
   "outputs": [
    {
     "name": "stdout",
     "output_type": "stream",
     "text": [
      "0 ArithmeticError\n",
      "10 ConnectionError\n",
      "20 FileNotFoundError\n",
      "30 IsADirectoryError\n",
      "40 NotImplementedError\n",
      "50 RuntimeWarning\n",
      "60 TypeError\n",
      "70 WindowsError\n",
      "80 __spec__\n",
      "90 callable\n",
      "100 display\n",
      "110 get_ipython\n",
      "120 isinstance\n",
      "130 min\n",
      "140 repr\n",
      "150 sum\n"
     ]
    }
   ],
   "source": [
    "methods = dir(__builtin__)\n",
    "for index, method in enumerate(methods):\n",
    "    if index % 10 == 0:\n",
    "        print(index, method)"
   ]
  },
  {
   "cell_type": "code",
   "execution_count": 139,
   "id": "d7ea6c87",
   "metadata": {},
   "outputs": [
    {
     "data": {
      "text/plain": [
       "[('a', 10000), ('b', 0), ('c', 0)]"
      ]
     },
     "execution_count": 139,
     "metadata": {},
     "output_type": "execute_result"
    }
   ],
   "source": [
    "l = ['a', 'b', 'c']\n",
    "c = [0, 0, 0]\n",
    "\n",
    "for idx, person in enumerate(l):\n",
    "    if person == 'a':\n",
    "        c[idx] += 10000\n",
    "        \n",
    "list(zip(l, c))"
   ]
  },
  {
   "cell_type": "code",
   "execution_count": 141,
   "id": "0dc6e140",
   "metadata": {},
   "outputs": [
    {
     "data": {
      "text/plain": [
       "<enumerate at 0x1c9acbea4c0>"
      ]
     },
     "execution_count": 141,
     "metadata": {},
     "output_type": "execute_result"
    }
   ],
   "source": [
    "enumerate(dir(__builtin__))  # аналог zip со списком индексов и списком значений"
   ]
  },
  {
   "cell_type": "code",
   "execution_count": 143,
   "id": "0a880a21",
   "metadata": {},
   "outputs": [
    {
     "data": {
      "text/plain": [
       "[(0, 'ArithmeticError'),\n",
       " (1, 'AssertionError'),\n",
       " (2, 'AttributeError'),\n",
       " (3, 'BaseException'),\n",
       " (4, 'BlockingIOError'),\n",
       " (5, 'BrokenPipeError'),\n",
       " (6, 'BufferError'),\n",
       " (7, 'BytesWarning'),\n",
       " (8, 'ChildProcessError'),\n",
       " (9, 'ConnectionAbortedError'),\n",
       " (10, 'ConnectionError'),\n",
       " (11, 'ConnectionRefusedError'),\n",
       " (12, 'ConnectionResetError'),\n",
       " (13, 'DeprecationWarning'),\n",
       " (14, 'EOFError'),\n",
       " (15, 'Ellipsis'),\n",
       " (16, 'EnvironmentError'),\n",
       " (17, 'Exception'),\n",
       " (18, 'False'),\n",
       " (19, 'FileExistsError'),\n",
       " (20, 'FileNotFoundError'),\n",
       " (21, 'FloatingPointError'),\n",
       " (22, 'FutureWarning'),\n",
       " (23, 'GeneratorExit'),\n",
       " (24, 'IOError'),\n",
       " (25, 'ImportError'),\n",
       " (26, 'ImportWarning'),\n",
       " (27, 'IndentationError'),\n",
       " (28, 'IndexError'),\n",
       " (29, 'InterruptedError'),\n",
       " (30, 'IsADirectoryError'),\n",
       " (31, 'KeyError'),\n",
       " (32, 'KeyboardInterrupt'),\n",
       " (33, 'LookupError'),\n",
       " (34, 'MemoryError'),\n",
       " (35, 'ModuleNotFoundError'),\n",
       " (36, 'NameError'),\n",
       " (37, 'None'),\n",
       " (38, 'NotADirectoryError'),\n",
       " (39, 'NotImplemented'),\n",
       " (40, 'NotImplementedError'),\n",
       " (41, 'OSError'),\n",
       " (42, 'OverflowError'),\n",
       " (43, 'PendingDeprecationWarning'),\n",
       " (44, 'PermissionError'),\n",
       " (45, 'ProcessLookupError'),\n",
       " (46, 'RecursionError'),\n",
       " (47, 'ReferenceError'),\n",
       " (48, 'ResourceWarning'),\n",
       " (49, 'RuntimeError'),\n",
       " (50, 'RuntimeWarning'),\n",
       " (51, 'StopAsyncIteration'),\n",
       " (52, 'StopIteration'),\n",
       " (53, 'SyntaxError'),\n",
       " (54, 'SyntaxWarning'),\n",
       " (55, 'SystemError'),\n",
       " (56, 'SystemExit'),\n",
       " (57, 'TabError'),\n",
       " (58, 'TimeoutError'),\n",
       " (59, 'True'),\n",
       " (60, 'TypeError'),\n",
       " (61, 'UnboundLocalError'),\n",
       " (62, 'UnicodeDecodeError'),\n",
       " (63, 'UnicodeEncodeError'),\n",
       " (64, 'UnicodeError'),\n",
       " (65, 'UnicodeTranslateError'),\n",
       " (66, 'UnicodeWarning'),\n",
       " (67, 'UserWarning'),\n",
       " (68, 'ValueError'),\n",
       " (69, 'Warning'),\n",
       " (70, 'WindowsError'),\n",
       " (71, 'ZeroDivisionError'),\n",
       " (72, '__IPYTHON__'),\n",
       " (73, '__build_class__'),\n",
       " (74, '__debug__'),\n",
       " (75, '__doc__'),\n",
       " (76, '__import__'),\n",
       " (77, '__loader__'),\n",
       " (78, '__name__'),\n",
       " (79, '__package__'),\n",
       " (80, '__spec__'),\n",
       " (81, 'abs'),\n",
       " (82, 'all'),\n",
       " (83, 'any'),\n",
       " (84, 'ascii'),\n",
       " (85, 'bin'),\n",
       " (86, 'bool'),\n",
       " (87, 'breakpoint'),\n",
       " (88, 'bytearray'),\n",
       " (89, 'bytes'),\n",
       " (90, 'callable'),\n",
       " (91, 'chr'),\n",
       " (92, 'classmethod'),\n",
       " (93, 'compile'),\n",
       " (94, 'complex'),\n",
       " (95, 'copyright'),\n",
       " (96, 'credits'),\n",
       " (97, 'delattr'),\n",
       " (98, 'dict'),\n",
       " (99, 'dir'),\n",
       " (100, 'display'),\n",
       " (101, 'divmod'),\n",
       " (102, 'enumerate'),\n",
       " (103, 'eval'),\n",
       " (104, 'exec'),\n",
       " (105, 'execfile'),\n",
       " (106, 'filter'),\n",
       " (107, 'float'),\n",
       " (108, 'format'),\n",
       " (109, 'frozenset'),\n",
       " (110, 'get_ipython'),\n",
       " (111, 'getattr'),\n",
       " (112, 'globals'),\n",
       " (113, 'hasattr'),\n",
       " (114, 'hash'),\n",
       " (115, 'help'),\n",
       " (116, 'hex'),\n",
       " (117, 'id'),\n",
       " (118, 'input'),\n",
       " (119, 'int'),\n",
       " (120, 'isinstance'),\n",
       " (121, 'issubclass'),\n",
       " (122, 'iter'),\n",
       " (123, 'len'),\n",
       " (124, 'license'),\n",
       " (125, 'list'),\n",
       " (126, 'locals'),\n",
       " (127, 'map'),\n",
       " (128, 'max'),\n",
       " (129, 'memoryview'),\n",
       " (130, 'min'),\n",
       " (131, 'next'),\n",
       " (132, 'object'),\n",
       " (133, 'oct'),\n",
       " (134, 'open'),\n",
       " (135, 'ord'),\n",
       " (136, 'pow'),\n",
       " (137, 'print'),\n",
       " (138, 'property'),\n",
       " (139, 'range'),\n",
       " (140, 'repr'),\n",
       " (141, 'reversed'),\n",
       " (142, 'round'),\n",
       " (143, 'runfile'),\n",
       " (144, 'set'),\n",
       " (145, 'setattr'),\n",
       " (146, 'slice'),\n",
       " (147, 'sorted'),\n",
       " (148, 'staticmethod'),\n",
       " (149, 'str'),\n",
       " (150, 'sum'),\n",
       " (151, 'super'),\n",
       " (152, 'tuple'),\n",
       " (153, 'type'),\n",
       " (154, 'vars'),\n",
       " (155, 'zip')]"
      ]
     },
     "execution_count": 143,
     "metadata": {},
     "output_type": "execute_result"
    }
   ],
   "source": [
    "list(enumerate(dir(__builtin__)))"
   ]
  },
  {
   "cell_type": "code",
   "execution_count": 145,
   "id": "a10ac2e7",
   "metadata": {},
   "outputs": [
    {
     "data": {
      "text/plain": [
       "True"
      ]
     },
     "execution_count": 145,
     "metadata": {},
     "output_type": "execute_result"
    }
   ],
   "source": [
    "list(enumerate(dir(__builtin__))) == list(zip(range(0, len(dir(__builtin__))), dir(__builtin__)))"
   ]
  },
  {
   "cell_type": "code",
   "execution_count": 2,
   "id": "f1d032d9",
   "metadata": {},
   "outputs": [
    {
     "data": {
      "text/plain": [
       "[(0, 'ArithmeticError'),\n",
       " (1, 'AssertionError'),\n",
       " (2, 'AttributeError'),\n",
       " (3, 'BaseException'),\n",
       " (4, 'BlockingIOError'),\n",
       " (5, 'BrokenPipeError'),\n",
       " (6, 'BufferError'),\n",
       " (7, 'BytesWarning'),\n",
       " (8, 'ChildProcessError'),\n",
       " (9, 'ConnectionAbortedError'),\n",
       " (10, 'ConnectionError'),\n",
       " (11, 'ConnectionRefusedError'),\n",
       " (12, 'ConnectionResetError'),\n",
       " (13, 'DeprecationWarning'),\n",
       " (14, 'EOFError'),\n",
       " (15, 'Ellipsis'),\n",
       " (16, 'EnvironmentError'),\n",
       " (17, 'Exception'),\n",
       " (18, 'False'),\n",
       " (19, 'FileExistsError'),\n",
       " (20, 'FileNotFoundError'),\n",
       " (21, 'FloatingPointError'),\n",
       " (22, 'FutureWarning'),\n",
       " (23, 'GeneratorExit'),\n",
       " (24, 'IOError'),\n",
       " (25, 'ImportError'),\n",
       " (26, 'ImportWarning'),\n",
       " (27, 'IndentationError'),\n",
       " (28, 'IndexError'),\n",
       " (29, 'InterruptedError'),\n",
       " (30, 'IsADirectoryError'),\n",
       " (31, 'KeyError'),\n",
       " (32, 'KeyboardInterrupt'),\n",
       " (33, 'LookupError'),\n",
       " (34, 'MemoryError'),\n",
       " (35, 'ModuleNotFoundError'),\n",
       " (36, 'NameError'),\n",
       " (37, 'None'),\n",
       " (38, 'NotADirectoryError'),\n",
       " (39, 'NotImplemented'),\n",
       " (40, 'NotImplementedError'),\n",
       " (41, 'OSError'),\n",
       " (42, 'OverflowError'),\n",
       " (43, 'PendingDeprecationWarning'),\n",
       " (44, 'PermissionError'),\n",
       " (45, 'ProcessLookupError'),\n",
       " (46, 'RecursionError'),\n",
       " (47, 'ReferenceError'),\n",
       " (48, 'ResourceWarning'),\n",
       " (49, 'RuntimeError'),\n",
       " (50, 'RuntimeWarning'),\n",
       " (51, 'StopAsyncIteration'),\n",
       " (52, 'StopIteration'),\n",
       " (53, 'SyntaxError'),\n",
       " (54, 'SyntaxWarning'),\n",
       " (55, 'SystemError'),\n",
       " (56, 'SystemExit'),\n",
       " (57, 'TabError'),\n",
       " (58, 'TimeoutError'),\n",
       " (59, 'True'),\n",
       " (60, 'TypeError'),\n",
       " (61, 'UnboundLocalError'),\n",
       " (62, 'UnicodeDecodeError'),\n",
       " (63, 'UnicodeEncodeError'),\n",
       " (64, 'UnicodeError'),\n",
       " (65, 'UnicodeTranslateError'),\n",
       " (66, 'UnicodeWarning'),\n",
       " (67, 'UserWarning'),\n",
       " (68, 'ValueError'),\n",
       " (69, 'Warning'),\n",
       " (70, 'WindowsError'),\n",
       " (71, 'ZeroDivisionError'),\n",
       " (72, '__IPYTHON__'),\n",
       " (73, '__build_class__'),\n",
       " (74, '__debug__'),\n",
       " (75, '__doc__'),\n",
       " (76, '__import__'),\n",
       " (77, '__loader__'),\n",
       " (78, '__name__'),\n",
       " (79, '__package__'),\n",
       " (80, '__spec__'),\n",
       " (81, 'abs'),\n",
       " (82, 'all'),\n",
       " (83, 'any'),\n",
       " (84, 'ascii'),\n",
       " (85, 'bin'),\n",
       " (86, 'bool'),\n",
       " (87, 'breakpoint'),\n",
       " (88, 'bytearray'),\n",
       " (89, 'bytes'),\n",
       " (90, 'callable'),\n",
       " (91, 'chr'),\n",
       " (92, 'classmethod'),\n",
       " (93, 'compile'),\n",
       " (94, 'complex'),\n",
       " (95, 'copyright'),\n",
       " (96, 'credits'),\n",
       " (97, 'delattr'),\n",
       " (98, 'dict'),\n",
       " (99, 'dir'),\n",
       " (100, 'display'),\n",
       " (101, 'divmod'),\n",
       " (102, 'enumerate'),\n",
       " (103, 'eval'),\n",
       " (104, 'exec'),\n",
       " (105, 'execfile'),\n",
       " (106, 'filter'),\n",
       " (107, 'float'),\n",
       " (108, 'format'),\n",
       " (109, 'frozenset'),\n",
       " (110, 'get_ipython'),\n",
       " (111, 'getattr'),\n",
       " (112, 'globals'),\n",
       " (113, 'hasattr'),\n",
       " (114, 'hash'),\n",
       " (115, 'help'),\n",
       " (116, 'hex'),\n",
       " (117, 'id'),\n",
       " (118, 'input'),\n",
       " (119, 'int'),\n",
       " (120, 'isinstance'),\n",
       " (121, 'issubclass'),\n",
       " (122, 'iter'),\n",
       " (123, 'len'),\n",
       " (124, 'license'),\n",
       " (125, 'list'),\n",
       " (126, 'locals'),\n",
       " (127, 'map'),\n",
       " (128, 'max'),\n",
       " (129, 'memoryview'),\n",
       " (130, 'min'),\n",
       " (131, 'next'),\n",
       " (132, 'object'),\n",
       " (133, 'oct'),\n",
       " (134, 'open'),\n",
       " (135, 'ord'),\n",
       " (136, 'pow'),\n",
       " (137, 'print'),\n",
       " (138, 'property'),\n",
       " (139, 'range'),\n",
       " (140, 'repr'),\n",
       " (141, 'reversed'),\n",
       " (142, 'round'),\n",
       " (143, 'runfile'),\n",
       " (144, 'set'),\n",
       " (145, 'setattr'),\n",
       " (146, 'slice'),\n",
       " (147, 'sorted'),\n",
       " (148, 'staticmethod'),\n",
       " (149, 'str'),\n",
       " (150, 'sum'),\n",
       " (151, 'super'),\n",
       " (152, 'tuple'),\n",
       " (153, 'type'),\n",
       " (154, 'vars'),\n",
       " (155, 'zip')]"
      ]
     },
     "execution_count": 2,
     "metadata": {},
     "output_type": "execute_result"
    }
   ],
   "source": [
    "list(zip(range(0, len(dir(__builtin__))), dir(__builtin__)))"
   ]
  },
  {
   "cell_type": "code",
   "execution_count": 4,
   "id": "9992938f",
   "metadata": {},
   "outputs": [
    {
     "data": {
      "text/plain": [
       "[('a', 1), ('b', 6), ('c', 9)]"
      ]
     },
     "execution_count": 4,
     "metadata": {},
     "output_type": "execute_result"
    }
   ],
   "source": [
    "a = ['a', 'b', 'c']\n",
    "b = [1, 6, 9]\n",
    "c = list(zip(a, b))\n",
    "c"
   ]
  },
  {
   "cell_type": "code",
   "execution_count": 6,
   "id": "e237bf49",
   "metadata": {},
   "outputs": [
    {
     "data": {
      "text/plain": [
       "[(0, ('a', 1)), (1, ('b', 6)), (2, ('c', 9))]"
      ]
     },
     "execution_count": 6,
     "metadata": {},
     "output_type": "execute_result"
    }
   ],
   "source": [
    "d = list(enumerate(c))\n",
    "d"
   ]
  },
  {
   "cell_type": "code",
   "execution_count": 13,
   "id": "21ac56d7",
   "metadata": {},
   "outputs": [
    {
     "name": "stdout",
     "output_type": "stream",
     "text": [
      "0 ('a', 1)\n",
      "1 ('b', 6)\n",
      "2 ('c', 9)\n"
     ]
    }
   ],
   "source": [
    "for index, value in enumerate(c):\n",
    "    print(index, value)"
   ]
  },
  {
   "cell_type": "code",
   "execution_count": 15,
   "id": "8a0137ab",
   "metadata": {},
   "outputs": [
    {
     "data": {
      "text/plain": [
       "['*', '*', '*', '*', 'o', '*']"
      ]
     },
     "execution_count": 15,
     "metadata": {},
     "output_type": "execute_result"
    }
   ],
   "source": [
    "[x if x in 'aeiou' else '*' for x in 'python']"
   ]
  },
  {
   "cell_type": "code",
   "execution_count": 42,
   "id": "dbfc1ae0",
   "metadata": {},
   "outputs": [
    {
     "data": {
      "text/plain": [
       "'1, 2, 3, 4, 5, 6, 7, 8, 9, 10, 11, 12, 13, 14, 15, 16, 17, 18, 19, 20, 21, 22, 23, 24, 25, 26, 27, 28, 29, 30, 31, 32, 33, 34, 35, 36, 37, 38, 39, 40, 41, 42, 43, 44, 45, 46, 47, 48, 49, 50, 51, 52, 53, 54, 55, 56, 57, 58, 59, 60, 61, 62, 63, 64, 65, 66, 67, 68, 69, 70, 71, 72, 73, 74, 75, 76, 77, 78, 79, 80, 81, 82, 83, 84, 85, 86, 87, 88, 89, 90, 91, 92, 93, 94, 95, 96, 97, 98, 99, 100'"
      ]
     },
     "execution_count": 42,
     "metadata": {},
     "output_type": "execute_result"
    }
   ],
   "source": [
    "', '.join([str(x) for x in range(1, 101)])"
   ]
  },
  {
   "cell_type": "code",
   "execution_count": 36,
   "id": "e1d2c34c",
   "metadata": {},
   "outputs": [],
   "source": [
    "k = []\n",
    "l = [[k.append(str(y)) for y in range(x, x + 2)] for x in range(3)]"
   ]
  },
  {
   "cell_type": "code",
   "execution_count": 38,
   "id": "d8e7b047",
   "metadata": {},
   "outputs": [
    {
     "data": {
      "text/plain": [
       "['0', '1', '1', '2', '2', '3']"
      ]
     },
     "execution_count": 38,
     "metadata": {},
     "output_type": "execute_result"
    }
   ],
   "source": [
    "k"
   ]
  },
  {
   "cell_type": "code",
   "execution_count": 40,
   "id": "5a30a7be",
   "metadata": {},
   "outputs": [],
   "source": [
    "m = [str(y) for y in range(3) for x in [y, y + 1]]"
   ]
  },
  {
   "cell_type": "code",
   "execution_count": 41,
   "id": "bdd31215",
   "metadata": {},
   "outputs": [
    {
     "data": {
      "text/plain": [
       "['0', '0', '1', '1', '2', '2']"
      ]
     },
     "execution_count": 41,
     "metadata": {},
     "output_type": "execute_result"
    }
   ],
   "source": [
    "m"
   ]
  }
 ],
 "metadata": {
  "kernelspec": {
   "display_name": "Python 3 (ipykernel)",
   "language": "python",
   "name": "python3"
  },
  "language_info": {
   "codemirror_mode": {
    "name": "ipython",
    "version": 3
   },
   "file_extension": ".py",
   "mimetype": "text/x-python",
   "name": "python",
   "nbconvert_exporter": "python",
   "pygments_lexer": "ipython3",
   "version": "3.9.12"
  }
 },
 "nbformat": 4,
 "nbformat_minor": 5
}
